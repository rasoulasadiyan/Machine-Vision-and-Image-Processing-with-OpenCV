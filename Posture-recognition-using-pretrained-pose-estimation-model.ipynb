{
 "cells": [
  {
   "cell_type": "code",
   "execution_count": 1,
   "id": "b4e63378-8e34-4615-b7a9-0132459fbc30",
   "metadata": {},
   "outputs": [],
   "source": [
    "import cv2\n",
    "import numpy as np\n",
    "import matplotlib.pyplot as plt"
   ]
  },
  {
   "cell_type": "code",
   "execution_count": 2,
   "id": "a8c33b49-659e-4941-9b2e-e2d3b411093d",
   "metadata": {},
   "outputs": [],
   "source": [
    "protoFile = \"models/pose_deploy_linevec_faster_4_stages.prototxt\"\n",
    "weightsFile = \"models/pose_iter_160000.caffemodel\""
   ]
  },
  {
   "cell_type": "code",
   "execution_count": 3,
   "id": "d8f8ed93-088f-4429-9611-9b5e022bb302",
   "metadata": {},
   "outputs": [],
   "source": [
    "nPoints = 15\n",
    "POSE_PAIRS = [[0,1], [1,2], [2,3], [3,4], [1,5], [5,6], [6,7], [1,14], [14,8], [8,9], [9,10], [14,11], [11,12], [12,13] ]\n",
    "pose_net = cv2.dnn.readNetFromCaffe(protoFile, weightsFile)"
   ]
  },
  {
   "cell_type": "markdown",
   "id": "a271474f-81b9-46cf-80e6-6d7757c32085",
   "metadata": {},
   "source": [
    "MPII Output Format Head – 0, Neck – 1, Right Shoulder – 2, Right Elbow – 3, Right Wrist – 4, Left Shoulder – 5, Left Elbow – 6, Left Wrist – 7, Right Hip – 8, Right Knee – 9, Right Ankle – 10, Left Hip – 11, Left Knee – 12, Left Ankle – 13, Chest – 14, Background – 15"
   ]
  },
  {
   "cell_type": "code",
   "execution_count": 4,
   "id": "2895a2f5-1405-4c47-a82b-d4a01af1032d",
   "metadata": {},
   "outputs": [],
   "source": [
    "def pose_estimation(frame):\n",
    "    blob = cv2.dnn.blobFromImage(frame, 1.0 / 255, (368, 368), (0, 0, 0), swapRB=False, crop=False)\n",
    "    pose_net.setInput(blob)\n",
    "    output = pose_net.forward()\n",
    "\n",
    "    height, width, _ = frame.shape\n",
    "    scaleX = width / output.shape[3]\n",
    "    scaleY = height / output.shape[2]\n",
    "\n",
    "    # Stroe keypoints\n",
    "    points = []\n",
    "\n",
    "    threshold = 0.1\n",
    "\n",
    "    for i in range(nPoints):\n",
    "        \n",
    "        probMap = output[0, i, :, :]\n",
    "        _, prob, _, point = cv2.minMaxLoc(probMap)\n",
    "\n",
    "        x = scaleX * point[0]\n",
    "        y = scaleY * point[1]\n",
    "\n",
    "        if prob > threshold : \n",
    "            points.append((int(x), int(y)))\n",
    "        else :\n",
    "            points.append(None)\n",
    "\n",
    "    imSkeleton = frame.copy()\n",
    "    for pair in POSE_PAIRS:\n",
    "        partA = pair[0]\n",
    "        partB = pair[1]\n",
    "\n",
    "        if points[partA] and points[partB]:\n",
    "            cv2.line(imSkeleton, points[partA], points[partB], (0, 255,0), 2)\n",
    "            cv2.circle(imSkeleton, points[partA], 5, (0, 0, 255), thickness=-1, lineType=cv2.FILLED)\n",
    "\n",
    "    return points, imSkeleton"
   ]
  },
  {
   "cell_type": "code",
   "execution_count": 9,
   "id": "3f9ccc66-9fbf-4d30-b41f-10f00fd5c0e7",
   "metadata": {},
   "outputs": [],
   "source": [
    "import math\n",
    "\n",
    "def calculate_angle(point1, point2, point3):\n",
    "    vector1 = [point1[0] - point2[0], point1[1] - point2[1]]\n",
    "    vector2 = [point3[0] - point2[0], point3[1] - point2[1]]\n",
    "\n",
    "    dot_product = vector1[0] * vector2[0] + vector1[1] * vector2[1]\n",
    "    magnitude1 = math.sqrt(vector1[0] ** 2 + vector1[1] ** 2)\n",
    "    magnitude2 = math.sqrt(vector2[0] ** 2 + vector2[1] ** 2)\n",
    "    \n",
    "    try:\n",
    "        cosine_angle = dot_product / (magnitude1 * magnitude2)\n",
    "    except Exception as e : \n",
    "        return False , 0\n",
    "    \n",
    "    angle_radians = math.acos(cosine_angle)\n",
    "    angle_degrees = math.degrees(angle_radians)\n",
    "\n",
    "    return True, angle_degrees\n",
    "\n",
    "def recognize_posture(points):\n",
    "    right_shoulder = points[2]\n",
    "    right_elbow = points[3]\n",
    "    right_wrist = points[4]\n",
    "    left_shoulder = points[5]\n",
    "    left_elbow = points[6]\n",
    "    left_wrist = points[7]\n",
    "    right_hip = points[8]\n",
    "    left_hip = points[11]\n",
    "    right_knee = points[9]\n",
    "    left_knee = points[12]\n",
    "    right_ankle = points[10]\n",
    "    left_ankle = points[13]\n",
    "\n",
    "    ok, right_knee_angle = calculate_angle(right_hip, right_knee, right_ankle)\n",
    "    ok, left_knee_angle = calculate_angle(left_hip, left_knee, left_ankle)\n",
    "    \n",
    "    if not ok:\n",
    "        return \"unknown _ Error\"\n",
    "    elif right_knee_angle < 155 and left_knee_angle < 155:\n",
    "        return \"sitting\"\n",
    "    elif 155 <= right_knee_angle and 155 <= left_knee_angle:\n",
    "        return \"standing\"\n",
    "    else:\n",
    "        return \"unknown\""
   ]
  },
  {
   "cell_type": "code",
   "execution_count": 10,
   "id": "980deba4-e5bc-46e9-aedf-c54d3899a9c8",
   "metadata": {},
   "outputs": [],
   "source": [
    "input_ = \"media/videos/_sitting-down-on.mp4\"\n",
    "video_cap = cv2.VideoCapture(input_)\n",
    "ok, frame = video_cap.read()\n",
    "\n",
    "pvs_pts, img = pose_estimation(frame)\n",
    "\n",
    "if not video_cap.isOpened():\n",
    "    print(\"Could not open video\")\n",
    "else : \n",
    "    width = int(video_cap.get(cv2.CAP_PROP_FRAME_WIDTH))\n",
    "    height = int(video_cap.get(cv2.CAP_PROP_FRAME_HEIGHT))\n",
    "    \n",
    "name = 'Pose_recognition.avi'\n",
    "video_out = cv2.VideoWriter(name, cv2.VideoWriter_fourcc(*'XVID'), 20, (width, height))\n",
    "\n",
    "while True:\n",
    "    ret, frame = video_cap.read()\n",
    "    if not ret:\n",
    "        break \n",
    "    pts, imframe = pose_estimation(frame)\n",
    "    \n",
    "    for i in range(len(pts)):\n",
    "        if pts[i] == None : \n",
    "            pts[i] = pvs_pts[i]\n",
    "            \n",
    "    pos = recognize_posture(pts)\n",
    "    \n",
    "    cv2.putText(imframe, \"Posture : \" + pos, (20,50), cv2.FONT_HERSHEY_SIMPLEX, 1, (50, 220, 220), 2)\n",
    "    video_out.write(imframe)\n",
    "    \n",
    "video_cap.release()\n",
    "video_out.release()"
   ]
  },
  {
   "cell_type": "code",
   "execution_count": null,
   "id": "8627ef0f-9961-40ed-a6fb-20091fe73fbe",
   "metadata": {},
   "outputs": [],
   "source": []
  }
 ],
 "metadata": {
  "kernelspec": {
   "display_name": "Python 3 (ipykernel)",
   "language": "python",
   "name": "python3"
  },
  "language_info": {
   "codemirror_mode": {
    "name": "ipython",
    "version": 3
   },
   "file_extension": ".py",
   "mimetype": "text/x-python",
   "name": "python",
   "nbconvert_exporter": "python",
   "pygments_lexer": "ipython3",
   "version": "3.9.12"
  }
 },
 "nbformat": 4,
 "nbformat_minor": 5
}
